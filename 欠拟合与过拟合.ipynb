{
 "cells": [
  {
   "cell_type": "code",
   "execution_count": 1,
   "metadata": {},
   "outputs": [
    {
     "name": "stderr",
     "output_type": "stream",
     "text": [
      "Using TensorFlow backend.\n"
     ]
    }
   ],
   "source": [
    "import keras"
   ]
  },
  {
   "cell_type": "code",
   "execution_count": 2,
   "metadata": {},
   "outputs": [],
   "source": [
    "from keras.datasets import imdb\n",
    "import numpy as np\n",
    "\n",
    "(train_data, train_labels), (test_data, test_labels) = imdb.load_data(num_words=10000)\n",
    "\n",
    "def vectorize_sequences(sequences, dimension=10000):\n",
    "    results = np.zeros((len(sequences), dimension))\n",
    "    for i, sequence in enumerate(sequences):\n",
    "        results[i, sequence] = 1.\n",
    "    return results\n",
    "\n",
    "# 向量化的训练数据\n",
    "x_train = vectorize_sequences(train_data)\n",
    "# 测试数据\n",
    "x_test = vectorize_sequences(test_data)\n",
    "\n",
    "y_train = np.asarray(train_labels).astype('float32')\n",
    "y_test = np.asarray(test_labels).astype('float32')"
   ]
  },
  {
   "cell_type": "code",
   "execution_count": 3,
   "metadata": {},
   "outputs": [],
   "source": [
    "from keras import models\n",
    "from keras import layers\n",
    "\n",
    "original_model = models.Sequential()\n",
    "original_model.add(layers.Dense(16, activation='relu', input_shape=(10000,)))\n",
    "original_model.add(layers.Dense(16, activation='relu'))\n",
    "original_model.add(layers.Dense(1, activation='sigmoid'))\n",
    "\n",
    "original_model.compile(optimizer='rmsprop',\n",
    "                       loss='binary_crossentropy',\n",
    "                       metrics=['acc'])"
   ]
  },
  {
   "cell_type": "code",
   "execution_count": 4,
   "metadata": {},
   "outputs": [],
   "source": [
    "smaller_model = models.Sequential()\n",
    "smaller_model.add(layers.Dense(4, activation='relu', input_shape=(10000,)))\n",
    "smaller_model.add(layers.Dense(4, activation='relu'))\n",
    "smaller_model.add(layers.Dense(1, activation='sigmoid'))\n",
    "\n",
    "smaller_model.compile(optimizer='rmsprop',\n",
    "                      loss='binary_crossentropy',\n",
    "                      metrics=['acc'])"
   ]
  },
  {
   "cell_type": "code",
   "execution_count": 5,
   "metadata": {},
   "outputs": [
    {
     "name": "stdout",
     "output_type": "stream",
     "text": [
      "Train on 25000 samples, validate on 25000 samples\n",
      "Epoch 1/20\n",
      "25000/25000 [==============================] - 10s 407us/step - loss: 0.4654 - acc: 0.8162 - val_loss: 0.3483 - val_acc: 0.8741\n",
      "Epoch 2/20\n",
      "25000/25000 [==============================] - 8s 335us/step - loss: 0.2646 - acc: 0.9062 - val_loss: 0.3044 - val_acc: 0.8785\n",
      "Epoch 3/20\n",
      "25000/25000 [==============================] - 5s 191us/step - loss: 0.2039 - acc: 0.9256 - val_loss: 0.3168 - val_acc: 0.8714\n",
      "Epoch 4/20\n",
      "25000/25000 [==============================] - 4s 165us/step - loss: 0.1687 - acc: 0.9412 - val_loss: 0.3089 - val_acc: 0.8777\n",
      "Epoch 5/20\n",
      "25000/25000 [==============================] - 3s 137us/step - loss: 0.1466 - acc: 0.9485 - val_loss: 0.3101 - val_acc: 0.8798\n",
      "Epoch 6/20\n",
      "25000/25000 [==============================] - 5s 216us/step - loss: 0.1248 - acc: 0.9578 - val_loss: 0.3620 - val_acc: 0.8672\n",
      "Epoch 7/20\n",
      "25000/25000 [==============================] - 4s 156us/step - loss: 0.1089 - acc: 0.9636 - val_loss: 0.3574 - val_acc: 0.8723\n",
      "Epoch 8/20\n",
      "25000/25000 [==============================] - 4s 163us/step - loss: 0.0949 - acc: 0.9684 - val_loss: 0.3863 - val_acc: 0.8681\n",
      "Epoch 9/20\n",
      "25000/25000 [==============================] - 4s 177us/step - loss: 0.0846 - acc: 0.9710 - val_loss: 0.4055 - val_acc: 0.8669\n",
      "Epoch 10/20\n",
      "25000/25000 [==============================] - 4s 179us/step - loss: 0.0703 - acc: 0.9778 - val_loss: 0.4540 - val_acc: 0.8611\n",
      "Epoch 11/20\n",
      "25000/25000 [==============================] - 5s 211us/step - loss: 0.0602 - acc: 0.9814 - val_loss: 0.5277 - val_acc: 0.8507\n",
      "Epoch 12/20\n",
      "25000/25000 [==============================] - 4s 154us/step - loss: 0.0534 - acc: 0.9829 - val_loss: 0.5210 - val_acc: 0.8572\n",
      "Epoch 13/20\n",
      "25000/25000 [==============================] - 5s 205us/step - loss: 0.0435 - acc: 0.9873 - val_loss: 0.5951 - val_acc: 0.8478\n",
      "Epoch 14/20\n",
      "25000/25000 [==============================] - 6s 225us/step - loss: 0.0353 - acc: 0.9902 - val_loss: 0.5866 - val_acc: 0.8528\n",
      "Epoch 15/20\n",
      "25000/25000 [==============================] - 6s 228us/step - loss: 0.0284 - acc: 0.9929 - val_loss: 0.6267 - val_acc: 0.8518\n",
      "Epoch 16/20\n",
      "25000/25000 [==============================] - 4s 161us/step - loss: 0.0241 - acc: 0.9941 - val_loss: 0.6460 - val_acc: 0.8557\n",
      "Epoch 17/20\n",
      "25000/25000 [==============================] - 6s 251us/step - loss: 0.0186 - acc: 0.9958 - val_loss: 0.7661 - val_acc: 0.8418\n",
      "Epoch 18/20\n",
      "25000/25000 [==============================] - 7s 262us/step - loss: 0.0154 - acc: 0.9968 - val_loss: 0.8525 - val_acc: 0.8370\n",
      "Epoch 19/20\n",
      "25000/25000 [==============================] - 6s 224us/step - loss: 0.0110 - acc: 0.9978 - val_loss: 0.7937 - val_acc: 0.8504\n",
      "Epoch 20/20\n",
      "25000/25000 [==============================] - 6s 226us/step - loss: 0.0111 - acc: 0.9978 - val_loss: 0.8997 - val_acc: 0.8413\n"
     ]
    }
   ],
   "source": [
    "original_hist = original_model.fit(x_train, y_train,\n",
    "                                   epochs=20,\n",
    "                                   batch_size=512,\n",
    "                                   validation_data=(x_test, y_test))"
   ]
  },
  {
   "cell_type": "code",
   "execution_count": 6,
   "metadata": {},
   "outputs": [
    {
     "name": "stdout",
     "output_type": "stream",
     "text": [
      "Train on 25000 samples, validate on 25000 samples\n",
      "Epoch 1/20\n",
      "25000/25000 [==============================] - 5s 200us/step - loss: 0.5658 - acc: 0.7700 - val_loss: 0.4789 - val_acc: 0.8562\n",
      "Epoch 2/20\n",
      "25000/25000 [==============================] - 5s 180us/step - loss: 0.3975 - acc: 0.8874 - val_loss: 0.3826 - val_acc: 0.8766\n",
      "Epoch 3/20\n",
      "25000/25000 [==============================] - 5s 183us/step - loss: 0.3030 - acc: 0.9105 - val_loss: 0.3228 - val_acc: 0.8840\n",
      "Epoch 4/20\n",
      "25000/25000 [==============================] - 4s 144us/step - loss: 0.2483 - acc: 0.9214 - val_loss: 0.2950 - val_acc: 0.8888\n",
      "Epoch 5/20\n",
      "25000/25000 [==============================] - 3s 135us/step - loss: 0.2145 - acc: 0.9300 - val_loss: 0.2848 - val_acc: 0.8888\n",
      "Epoch 6/20\n",
      "25000/25000 [==============================] - 3s 134us/step - loss: 0.1903 - acc: 0.9368 - val_loss: 0.2795 - val_acc: 0.8891\n",
      "Epoch 7/20\n",
      "25000/25000 [==============================] - 3s 134us/step - loss: 0.1721 - acc: 0.9423 - val_loss: 0.2813 - val_acc: 0.8877\n",
      "Epoch 8/20\n",
      "25000/25000 [==============================] - 3s 107us/step - loss: 0.1571 - acc: 0.9486 - val_loss: 0.2876 - val_acc: 0.8866\n",
      "Epoch 9/20\n",
      "25000/25000 [==============================] - 4s 144us/step - loss: 0.1445 - acc: 0.9525 - val_loss: 0.2963 - val_acc: 0.8832\n",
      "Epoch 10/20\n",
      "25000/25000 [==============================] - 5s 188us/step - loss: 0.1343 - acc: 0.9565 - val_loss: 0.3113 - val_acc: 0.8786\n",
      "Epoch 11/20\n",
      "25000/25000 [==============================] - 3s 137us/step - loss: 0.1255 - acc: 0.9593 - val_loss: 0.3131 - val_acc: 0.8801\n",
      "Epoch 12/20\n",
      "25000/25000 [==============================] - 4s 175us/step - loss: 0.1164 - acc: 0.9632 - val_loss: 0.3212 - val_acc: 0.8784\n",
      "Epoch 13/20\n",
      "25000/25000 [==============================] - 5s 190us/step - loss: 0.1092 - acc: 0.9658 - val_loss: 0.3398 - val_acc: 0.8750\n",
      "Epoch 14/20\n",
      "25000/25000 [==============================] - 4s 177us/step - loss: 0.1025 - acc: 0.9683 - val_loss: 0.3462 - val_acc: 0.8754\n",
      "Epoch 15/20\n",
      "25000/25000 [==============================] - 5s 198us/step - loss: 0.0963 - acc: 0.9711 - val_loss: 0.3609 - val_acc: 0.8728\n",
      "Epoch 16/20\n",
      "25000/25000 [==============================] - 3s 117us/step - loss: 0.0909 - acc: 0.9724 - val_loss: 0.3744 - val_acc: 0.8714\n",
      "Epoch 17/20\n",
      "25000/25000 [==============================] - 3s 136us/step - loss: 0.0847 - acc: 0.9748 - val_loss: 0.3868 - val_acc: 0.8703\n",
      "Epoch 18/20\n",
      "25000/25000 [==============================] - 3s 129us/step - loss: 0.0803 - acc: 0.9769 - val_loss: 0.4066 - val_acc: 0.8672\n",
      "Epoch 19/20\n",
      "25000/25000 [==============================] - 3s 113us/step - loss: 0.0748 - acc: 0.9788 - val_loss: 0.4187 - val_acc: 0.8665\n",
      "Epoch 20/20\n",
      "25000/25000 [==============================] - 4s 152us/step - loss: 0.0705 - acc: 0.9804 - val_loss: 0.4348 - val_acc: 0.8662\n"
     ]
    }
   ],
   "source": [
    "smaller_model_hist = smaller_model.fit(x_train, y_train,\n",
    "                                       epochs=20,\n",
    "                                       batch_size=512,\n",
    "                                       validation_data=(x_test, y_test))"
   ]
  },
  {
   "cell_type": "code",
   "execution_count": 23,
   "metadata": {},
   "outputs": [],
   "source": [
    "epochs = range(1, 21)\n",
    "original_val_loss = original_hist.history['val_loss']\n",
    "smaller_model_val_loss = smaller_model_hist.history['val_loss']"
   ]
  },
  {
   "cell_type": "code",
   "execution_count": 24,
   "metadata": {},
   "outputs": [
    {
     "data": {
      "image/png": "[encoded data removed]",
      "text/plain": [
       "<Figure size 432x288 with 1 Axes>"
      ]
     },
     "metadata": {
      "needs_background": "light"
     },
     "output_type": "display_data"
    }
   ],
   "source": [
    "import matplotlib.pyplot as plt\n",
    "\n",
    "plt.plot(epochs, original_val_loss, 'b+', label='Original model')\n",
    "plt.plot(epochs, smaller_model_val_loss, 'bo', label='Smaller model')\n",
    "plt.xlabel('Epochs')\n",
    "plt.ylabel('Validation loss')\n",
    "plt.legend()\n",
    "\n",
    "plt.show()"
   ]
  },
  {
   "cell_type": "code",
   "execution_count": 25,
   "metadata": {},
   "outputs": [],
   "source": [
    "bigger_model = models.Sequential()\n",
    "bigger_model.add(layers.Dense(512, activation='relu', input_shape=(10000,)))\n",
    "bigger_model.add(layers.Dense(512, activation='relu'))\n",
    "bigger_model.add(layers.Dense(1, activation='sigmoid'))\n",
    "\n",
    "bigger_model.compile(optimizer='rmsprop',\n",
    "                     loss='binary_crossentropy',\n",
    "                     metrics=['acc'])"
   ]
  },
  {
   "cell_type": "code",
   "execution_count": 10,
   "metadata": {
    "scrolled": true
   },
   "outputs": [
    {
     "name": "stdout",
     "output_type": "stream",
     "text": [
      "Train on 25000 samples, validate on 25000 samples\n",
      "Epoch 1/20\n",
      "25000/25000 [==============================] - 17s 684us/step - loss: 0.4637 - acc: 0.7918 - val_loss: 0.3759 - val_acc: 0.8406\n",
      "Epoch 2/20\n",
      "25000/25000 [==============================] - 16s 654us/step - loss: 0.2311 - acc: 0.9080 - val_loss: 0.3054 - val_acc: 0.8782\n",
      "Epoch 3/20\n",
      "25000/25000 [==============================] - 16s 641us/step - loss: 0.1365 - acc: 0.9492 - val_loss: 0.3578 - val_acc: 0.8669\n",
      "Epoch 4/20\n",
      "25000/25000 [==============================] - 23s 936us/step - loss: 0.0746 - acc: 0.9751 - val_loss: 0.4026 - val_acc: 0.8806\n",
      "Epoch 5/20\n",
      "25000/25000 [==============================] - 15s 619us/step - loss: 0.0565 - acc: 0.9876 - val_loss: 0.4876 - val_acc: 0.8810\n",
      "Epoch 6/20\n",
      "25000/25000 [==============================] - 21s 854us/step - loss: 0.0936 - acc: 0.9862 - val_loss: 0.5582 - val_acc: 0.8600\n",
      "Epoch 7/20\n",
      "25000/25000 [==============================] - 15s 605us/step - loss: 0.0021 - acc: 1.0000 - val_loss: 0.6800 - val_acc: 0.8786\n",
      "Epoch 8/20\n",
      "25000/25000 [==============================] - 15s 603us/step - loss: 2.1894e-04 - acc: 1.0000 - val_loss: 0.8546 - val_acc: 0.8780\n",
      "Epoch 9/20\n",
      "25000/25000 [==============================] - 14s 554us/step - loss: 0.1576 - acc: 0.9878 - val_loss: 0.7719 - val_acc: 0.8683\n",
      "Epoch 10/20\n",
      "25000/25000 [==============================] - 15s 607us/step - loss: 2.4115e-04 - acc: 1.0000 - val_loss: 0.7896 - val_acc: 0.8756\n",
      "Epoch 11/20\n",
      "25000/25000 [==============================] - 15s 596us/step - loss: 7.4276e-05 - acc: 1.0000 - val_loss: 0.8961 - val_acc: 0.8742\n",
      "Epoch 12/20\n",
      "25000/25000 [==============================] - 17s 661us/step - loss: 1.2066e-05 - acc: 1.0000 - val_loss: 1.0586 - val_acc: 0.8774\n",
      "Epoch 13/20\n",
      "25000/25000 [==============================] - 25s 988us/step - loss: 1.3885e-06 - acc: 1.0000 - val_loss: 1.2141 - val_acc: 0.8772\n",
      "Epoch 14/20\n",
      "25000/25000 [==============================] - 23s 937us/step - loss: 2.3891e-07 - acc: 1.0000 - val_loss: 1.3639 - val_acc: 0.8768\n",
      "Epoch 15/20\n",
      "25000/25000 [==============================] - 19s 747us/step - loss: 5.4702e-08 - acc: 1.0000 - val_loss: 1.4675 - val_acc: 0.8773\n",
      "Epoch 16/20\n",
      "25000/25000 [==============================] - 30s 1ms/step - loss: 2.2123e-08 - acc: 1.0000 - val_loss: 1.5207 - val_acc: 0.8774\n",
      "Epoch 17/20\n",
      "25000/25000 [==============================] - 26s 1ms/step - loss: 1.3380e-08 - acc: 1.0000 - val_loss: 1.5553 - val_acc: 0.8773\n",
      "Epoch 18/20\n",
      "25000/25000 [==============================] - 19s 767us/step - loss: 9.6291e-09 - acc: 1.0000 - val_loss: 1.5796 - val_acc: 0.8774\n",
      "Epoch 19/20\n",
      "25000/25000 [==============================] - 21s 857us/step - loss: 7.5297e-09 - acc: 1.0000 - val_loss: 1.5963 - val_acc: 0.8772\n",
      "Epoch 20/20\n",
      "25000/25000 [==============================] - 19s 773us/step - loss: 6.1858e-09 - acc: 1.0000 - val_loss: 1.6122 - val_acc: 0.8775\n"
     ]
    }
   ],
   "source": [
    "bigger_model_hist = bigger_model.fit(x_train, y_train,\n",
    "                                     epochs=20,\n",
    "                                     batch_size=512,\n",
    "                                     validation_data=(x_test, y_test))"
   ]
  },
  {
   "cell_type": "code",
   "execution_count": 26,
   "metadata": {},
   "outputs": [
    {
     "data": {
      "image/png": "[encoded data removed]",
      "text/plain": [
       "<Figure size 432x288 with 1 Axes>"
      ]
     },
     "metadata": {
      "needs_background": "light"
     },
     "output_type": "display_data"
    }
   ],
   "source": [
    "bigger_model_val_loss = bigger_model_hist.history['val_loss']\n",
    "\n",
    "plt.plot(epochs, original_val_loss, 'b+', label='Original model')\n",
    "plt.plot(epochs, bigger_model_val_loss, 'bo', label='Bigger model')\n",
    "plt.xlabel('Epochs')\n",
    "plt.ylabel('Validation loss')\n",
    "plt.legend()\n",
    "\n",
    "plt.show()"
   ]
  },
  {
   "cell_type": "code",
   "execution_count": 27,
   "metadata": {
    "scrolled": true
   },
   "outputs": [
    {
     "data": {
      "image/png": "[encoded data removed]",
      "text/plain": [
       "<Figure size 432x288 with 1 Axes>"
      ]
     },
     "metadata": {
      "needs_background": "light"
     },
     "output_type": "display_data"
    }
   ],
   "source": [
    "original_train_loss = original_hist.history['loss']\n",
    "bigger_model_train_loss = bigger_model_hist.history['loss']\n",
    "\n",
    "plt.plot(epochs, original_train_loss, 'b+', label='Original model')\n",
    "plt.plot(epochs, bigger_model_train_loss, 'bo', label='Bigger model')\n",
    "plt.xlabel('Epochs')\n",
    "plt.ylabel('Training loss')\n",
    "plt.legend()\n",
    "\n",
    "plt.show()"
   ]
  },
  {
   "cell_type": "code",
   "execution_count": 28,
   "metadata": {},
   "outputs": [],
   "source": [
    "from keras import regularizers\n",
    "\n",
    "\n",
    "# 添加权重正则化\n",
    "l2_model = models.Sequential()\n",
    "l2_model.add(layers.Dense(16, kernel_regularizer=regularizers.l2(0.001), #L1 正则化\n",
    "                          activation='relu', input_shape=(10000,)))\n",
    "l2_model.add(layers.Dense(16, kernel_regularizer=regularizers.l2(0.001), #L2 正则化\n",
    "                          activation='relu'))\n",
    "l2_model.add(layers.Dense(1, activation='sigmoid'))"
   ]
  },
  {
   "cell_type": "code",
   "execution_count": 29,
   "metadata": {},
   "outputs": [],
   "source": [
    "l2_model.compile(optimizer='rmsprop',\n",
    "                 loss='binary_crossentropy',\n",
    "                 metrics=['acc'])"
   ]
  },
  {
   "cell_type": "code",
   "execution_count": 30,
   "metadata": {},
   "outputs": [
    {
     "name": "stdout",
     "output_type": "stream",
     "text": [
      "Train on 25000 samples, validate on 25000 samples\n",
      "Epoch 1/20\n",
      "25000/25000 [==============================] - 7s 276us/step - loss: 0.5022 - acc: 0.8162 - val_loss: 0.3826 - val_acc: 0.8845\n",
      "Epoch 2/20\n",
      "25000/25000 [==============================] - 4s 140us/step - loss: 0.3180 - acc: 0.9072 - val_loss: 0.3341 - val_acc: 0.8904\n",
      "Epoch 3/20\n",
      "25000/25000 [==============================] - 4s 159us/step - loss: 0.2700 - acc: 0.9206 - val_loss: 0.3293 - val_acc: 0.8889\n",
      "Epoch 4/20\n",
      "25000/25000 [==============================] - 4s 160us/step - loss: 0.2490 - acc: 0.9296 - val_loss: 0.3855 - val_acc: 0.8632\n",
      "Epoch 5/20\n",
      "25000/25000 [==============================] - 3s 132us/step - loss: 0.2354 - acc: 0.9350 - val_loss: 0.3427 - val_acc: 0.8834\n",
      "Epoch 6/20\n",
      "25000/25000 [==============================] - 4s 140us/step - loss: 0.2263 - acc: 0.9374 - val_loss: 0.3545 - val_acc: 0.8802\n",
      "Epoch 7/20\n",
      "25000/25000 [==============================] - 4s 140us/step - loss: 0.2198 - acc: 0.9420 - val_loss: 0.3608 - val_acc: 0.8777\n",
      "Epoch 8/20\n",
      "25000/25000 [==============================] - 4s 153us/step - loss: 0.2146 - acc: 0.9437 - val_loss: 0.4104 - val_acc: 0.8614\n",
      "Epoch 9/20\n",
      "25000/25000 [==============================] - 4s 154us/step - loss: 0.2089 - acc: 0.9459 - val_loss: 0.3745 - val_acc: 0.8751\n",
      "Epoch 10/20\n",
      "25000/25000 [==============================] - 4s 151us/step - loss: 0.2119 - acc: 0.9436 - val_loss: 0.3777 - val_acc: 0.8740\n",
      "Epoch 11/20\n",
      "25000/25000 [==============================] - 3s 135us/step - loss: 0.2042 - acc: 0.9469 - val_loss: 0.3799 - val_acc: 0.8746\n",
      "Epoch 12/20\n",
      "25000/25000 [==============================] - 4s 143us/step - loss: 0.2014 - acc: 0.9470 - val_loss: 0.4107 - val_acc: 0.8678\n",
      "Epoch 13/20\n",
      "25000/25000 [==============================] - 3s 128us/step - loss: 0.2007 - acc: 0.9483 - val_loss: 0.4020 - val_acc: 0.8702\n",
      "Epoch 14/20\n",
      "25000/25000 [==============================] - 3s 120us/step - loss: 0.1938 - acc: 0.9507 - val_loss: 0.4049 - val_acc: 0.8694\n",
      "Epoch 15/20\n",
      "25000/25000 [==============================] - 5s 204us/step - loss: 0.1942 - acc: 0.9494 - val_loss: 0.4065 - val_acc: 0.8683\n",
      "Epoch 16/20\n",
      "25000/25000 [==============================] - 5s 189us/step - loss: 0.1943 - acc: 0.9491 - val_loss: 0.4053 - val_acc: 0.8696\n",
      "Epoch 17/20\n",
      "25000/25000 [==============================] - 4s 161us/step - loss: 0.1871 - acc: 0.9518 - val_loss: 0.4126 - val_acc: 0.8689\n",
      "Epoch 18/20\n",
      "25000/25000 [==============================] - 4s 161us/step - loss: 0.1890 - acc: 0.9498 - val_loss: 0.4437 - val_acc: 0.8620\n",
      "Epoch 19/20\n",
      "25000/25000 [==============================] - 3s 119us/step - loss: 0.1846 - acc: 0.9546 - val_loss: 0.4197 - val_acc: 0.8671\n",
      "Epoch 20/20\n",
      "25000/25000 [==============================] - 4s 157us/step - loss: 0.1824 - acc: 0.9544 - val_loss: 0.4411 - val_acc: 0.8632\n"
     ]
    }
   ],
   "source": [
    "l2_model_hist = l2_model.fit(x_train, y_train,\n",
    "                             epochs=20,\n",
    "                             batch_size=512,\n",
    "                             validation_data=(x_test, y_test))"
   ]
  },
  {
   "cell_type": "code",
   "execution_count": 31,
   "metadata": {
    "scrolled": false
   },
   "outputs": [
    {
     "data": {
      "image/png": "[encoded data removed]",
      "text/plain": [
       "<Figure size 432x288 with 1 Axes>"
      ]
     },
     "metadata": {
      "needs_background": "light"
     },
     "output_type": "display_data"
    }
   ],
   "source": [
    "l2_model_val_loss = l2_model_hist.history['val_loss']\n",
    "\n",
    "plt.plot(epochs, original_val_loss, 'b+', label='Original model')\n",
    "plt.plot(epochs, l2_model_val_loss, 'bo', label='L2-regularized model')\n",
    "plt.xlabel('Epochs')\n",
    "plt.ylabel('Validation loss')\n",
    "plt.legend()\n",
    "\n",
    "plt.show()"
   ]
  }
 ],
 "metadata": {
  "kernelspec": {
   "display_name": "Python 3",
   "language": "python",
   "name": "python3"
  },
  "language_info": {
   "codemirror_mode": {
    "name": "ipython",
    "version": 3
   },
   "file_extension": ".py",
   "mimetype": "text/x-python",
   "name": "python",
   "nbconvert_exporter": "python",
   "pygments_lexer": "ipython3",
   "version": "3.7.4"
  }
 },
 "nbformat": 4,
 "nbformat_minor": 2
}
